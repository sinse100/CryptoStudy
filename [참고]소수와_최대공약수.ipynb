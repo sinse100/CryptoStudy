{
 "cells": [
  {
   "cell_type": "markdown",
   "id": "e3fd9cc4",
   "metadata": {},
   "source": [
    "## [보충] 소수"
   ]
  },
  {
   "cell_type": "markdown",
   "id": "7f954c46",
   "metadata": {},
   "source": [
    "#### 직접 나눠 보기를 통한 소수의 판별\n",
    "+ 소수의 판별을 위해, 다음의 명제 활용\n",
    "$$만약\\ n\\ 이\\ 합성수라면,\\ n\\ 의\\ 소인수들\\ 중 \\sqrt{n}\\ 보다\\ 작은\\ 소수가\\ 반드시\\ 존재 $$\n",
    "  + 증명\n",
    "  > $n\\ 이\\ 합성수인\\ 경우,\\ n=N_{1}N_{2}\\ (단,\\ N_{1},\\ N_{2}\\ 각각은,\\ 1 < N_{1}, N_{2} < N\\ 인\\ 자연수)$<br><br>\n",
    "  > $if,\\ N_{1} = N_{2}\\ 인\\ 경우,\\  N_{1} = N_{2} = \\sqrt{n}$<br><br>\n",
    "  > $if,\\ N_{1} \\neq N_{2}\\ 인\\ 경우에\\ 대해선,\\ N_{1} > \\sqrt{n}\\ 이고\\ N_{2} > \\sqrt{n} N_{2}\\ 인\\ 경우에\\ 대해\\ 모순이\\ 발생함을\\ 증명$\n",
    "  > $N_{1} > \\sqrt{n}\\ 이고\\ N_{2} > \\sqrt{n} N_{2} 이므로,  N_{1} \\times N_{2} > n . 이는, N_{1} \\times N_{2} = n 이라는\\ 전제에\\ 모순됨.$<br>\n",
    "  >$따라서, N_{1} > \\sqrt{n}\\ 이면서\\ N_{2} > \\sqrt{n} N_{2}\\ 일\\ 수는\\ 없으므로,\\ 그\\ 여집합인,\\ N_{1} \\leq \\sqrt{n}\\ 또는 \\ N_{2} \\leq \\sqrt{n} N_{2}\\ 일\\ 수밖에\\ 없음.  $\n",
    "  > $$\\therefore n\\ 이\\ 합성수인\\ 경우,\\ n\\ 의\\ 소인수들\\ 중 \\sqrt{n}\\ 보다\\ 작은\\ 소수가\\ 반드시\\ 존재$$"
   ]
  },
  {
   "cell_type": "code",
   "execution_count": null,
   "id": "ba5a9acb",
   "metadata": {},
   "outputs": [],
   "source": []
  }
 ],
 "metadata": {
  "kernelspec": {
   "display_name": "myvenv",
   "language": "python",
   "name": "myvenv"
  },
  "language_info": {
   "codemirror_mode": {
    "name": "ipython",
    "version": 3
   },
   "file_extension": ".py",
   "mimetype": "text/x-python",
   "name": "python",
   "nbconvert_exporter": "python",
   "pygments_lexer": "ipython3",
   "version": "3.8.13"
  }
 },
 "nbformat": 4,
 "nbformat_minor": 5
}
